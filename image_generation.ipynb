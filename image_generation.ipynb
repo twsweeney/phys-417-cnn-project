{
 "cells": [
  {
   "cell_type": "markdown",
   "metadata": {},
   "source": [
    "# Image Generation\n",
    "\n",
    "This notebook takes in the raw h5 file of strain vs time data and generates a h5 file containing square spectrogram images. "
   ]
  },
  {
   "cell_type": "code",
   "execution_count": 7,
   "metadata": {},
   "outputs": [],
   "source": [
    "import h5py\n",
    "import numpy as np \n",
    "from gwpy.timeseries import TimeSeries\n",
    "from PIL import Image\n",
    "from tqdm import tqdm "
   ]
  },
  {
   "cell_type": "markdown",
   "metadata": {},
   "source": [
    "# Load Dataset "
   ]
  },
  {
   "cell_type": "code",
   "execution_count": 8,
   "metadata": {},
   "outputs": [],
   "source": [
    "#load in the dataset from the h5 file and store it in np arrays \n",
    "data_path = '/home/toomeh/uw/spring-24/phys-417/final-project/data/GW2_Andy.h5'\n",
    "with h5py.File(data_path, 'r') as f:\n",
    "\n",
    "    background_array = np.array(f['background'])\n",
    "    binaryblackhole_array = np.array(f['binaryblackhole'])\n",
    "    ccsn_array = np.array(f['ccsn'])\n",
    "    glitch_array = np.array(f['glitch'])\n",
    "\n",
    "# H and L are hanford and livingston the two ligo detectors \n",
    "array_list = [background_array, binaryblackhole_array, ccsn_array, glitch_array]"
   ]
  },
  {
   "cell_type": "code",
   "execution_count": 9,
   "metadata": {},
   "outputs": [],
   "source": [
    "def generate_square_spectrogram(strain_input:np.ndarray, frequency_bounds=(30, 500), fduration=0.01, fftlength=0.01, image_size=128):\n",
    "    \"\"\"Generate one square spectrogram given a set of time series strain data\n",
    "\n",
    "    Args:\n",
    "        strain_input (np.ndarray): input strain vs time data \n",
    "        frequency_bounds (tuple): frequency to create a spectrogram for. Defaults to 0.01\n",
    "        fduration (float): duration of the qtransform. Defaults to 0.01\n",
    "        fftlength (float): length of the fft to use when calculating the qtransform. Defaults to (30, 500)\n",
    "        output_image_size (int): output size. Defaults to 128\n",
    "\n",
    "    Returns:\n",
    "        np.ndarray: square image of the spectrogram for the corresponding strain data. \n",
    "    \"\"\"\n",
    "    # here I use the gwpy package to create a strain time series object, so that we can then use the q transform method that is built in\n",
    "    time_series = TimeSeries(strain_input, sample_rate = 4096)\n",
    "    # Generate a long and short q transform to average over \n",
    "\n",
    "    q_transform = time_series.q_transform(frange=frequency_bounds, fduration=fduration, fftlength=fftlength)\n",
    "    spectrogram_image = Image.fromarray(q_transform.value.T)\n",
    "    square_size = image_size\n",
    "    resized_image = spectrogram_image.resize((square_size, square_size))\n",
    "    resized_array = np.array(resized_image)\n",
    "    normalized_array = (resized_array / 255.0)\n",
    "    return normalized_array"
   ]
  },
  {
   "cell_type": "markdown",
   "metadata": {},
   "source": [
    "# Call the function on each part of the dataset"
   ]
  },
  {
   "cell_type": "code",
   "execution_count": 10,
   "metadata": {},
   "outputs": [],
   "source": [
    "def process_array(array:np.ndarray, frequency_bounds:tuple, fduration:float, fftlength:float, output_image_size:int) -> np.ndarray:\n",
    "    \"\"\"_summary_\n",
    "\n",
    "    Args:\n",
    "        array (np.ndarray): raw data input array\n",
    "        frequency_bounds (tuple): frequency to create a spectrogram for \n",
    "        fduration (float): duration of the qtransform\n",
    "        fftlength (float): length of the fft to use when calculating the qtransform\n",
    "        output_image_size (int): output size\n",
    "\n",
    "    Returns:\n",
    "        np.ndarray: array containing square spectrogram images \n",
    "    \"\"\"\n",
    "    N_datapoints = array.shape[0]\n",
    "    N_detectors = array.shape[1]\n",
    "    output_array = np.empty((N_datapoints, N_detectors, output_image_size, output_image_size))\n",
    "    for datapoint_index in tqdm(range(N_datapoints)):\n",
    "        for detector_index in range(N_detectors):\n",
    "            datapoint_to_alter = array[datapoint_index, detector_index, :]\n",
    "            square_spectrogram = generate_square_spectrogram(datapoint_to_alter, frequency_bounds=frequency_bounds, \n",
    "                                                             fduration=fduration, fftlength=fftlength, image_size=output_image_size)\n",
    "            output_array[datapoint_index, detector_index, :, :] = square_spectrogram\n",
    "    return output_array\n",
    "\n"
   ]
  },
  {
   "cell_type": "code",
   "execution_count": 11,
   "metadata": {},
   "outputs": [],
   "source": [
    "def generate_output_file(image_size:int, fduration:float, fftlength:float):\n",
    "    \"\"\"creates the output h5 that contains the qtransform of each datapoint in the raw dataset\n",
    "\n",
    "    Args:\n",
    "        image_size (int): Output image size\n",
    "        fduration (float): duration of the qtransform\n",
    "        fftlength (float): length of the fft to use when calculating the qtransform\n",
    "    \"\"\"    \n",
    "    fduration_str = str(fduration).split('.')[1]\n",
    "    fftlength_str = str(fftlength).split('.')[1]\n",
    "    output_file_path = f'/home/toomeh/uw/spring-24/phys-417/final-project/data/square_spectrograms/{image_size}x{image_size}_0{fduration_str}_0{fftlength_str}_long_images.h5' \n",
    "    notes = f'qtransform with params (30, 500), {fduration_str},{fftlength_str}, {image_size} '\n",
    "    array_names = ['background', 'bbh', 'ccsn', 'glitch']\n",
    "\n",
    "    # Loop through each array in the raw data and call our image generation function \n",
    "    for index, array in enumerate(array_list):\n",
    "        reshaped_array = process_array(array, (30, 500), fduration,fftlength, image_size)\n",
    "        # write each image array to an h5 file\n",
    "        with h5py.File(output_file_path, 'a') as hf:\n",
    "            # Write array to the HDF5 file\n",
    "            hf.create_dataset(array_names[index], data=reshaped_array)\n",
    "            # Add metadata notes to array1\n",
    "            hf[array_names[index]].attrs['notes'] = notes\n"
   ]
  },
  {
   "cell_type": "code",
   "execution_count": 12,
   "metadata": {},
   "outputs": [
    {
     "name": "stderr",
     "output_type": "stream",
     "text": [
      "100%|██████████| 2048/2048 [10:01<00:00,  3.41it/s]\n",
      "100%|██████████| 2048/2048 [08:39<00:00,  3.94it/s]\n",
      "100%|██████████| 2048/2048 [09:06<00:00,  3.75it/s]\n",
      "100%|██████████| 2048/2048 [09:24<00:00,  3.63it/s]\n"
     ]
    }
   ],
   "source": [
    "generate_output_file(128, 0.03, 0.03)"
   ]
  }
 ],
 "metadata": {
  "kernelspec": {
   "display_name": "phys_417_env",
   "language": "python",
   "name": "python3"
  },
  "language_info": {
   "codemirror_mode": {
    "name": "ipython",
    "version": 3
   },
   "file_extension": ".py",
   "mimetype": "text/x-python",
   "name": "python",
   "nbconvert_exporter": "python",
   "pygments_lexer": "ipython3",
   "version": "3.11.8"
  }
 },
 "nbformat": 4,
 "nbformat_minor": 2
}
